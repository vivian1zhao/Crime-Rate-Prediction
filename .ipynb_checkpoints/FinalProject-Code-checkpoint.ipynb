{
 "cells": [
  {
   "attachments": {},
   "cell_type": "markdown",
   "id": "c67c2bd7-9529-46c3-bde9-1aca9f7b77cd",
   "metadata": {},
   "source": [
    "# CS 439 Final Project: Crime Rate Prediction\n",
    "\n",
    "**Contributers:** Jenya Pandu (jp2068), Vivian Zhao (vz57), Matt Yun (yy656) \\\n",
    "**Course:** Introduction to Data Science (01:198:439) \\\n",
    "**Professor:** Naina Chaturvedi \\\n",
    "**Semester:** Spring 2025 "
   ]
  },
  {
   "cell_type": "markdown",
   "id": "1a780492-a324-48cd-8193-bf8ec7b485b7",
   "metadata": {},
   "source": [
    "### Import necessary libraries:"
   ]
  },
  {
   "cell_type": "code",
   "execution_count": null,
   "id": "abde70f6-c37d-4d66-95c1-1676081e4f49",
   "metadata": {},
   "outputs": [],
   "source": [
    "import pandas as pd\n"
   ]
  },
  {
   "cell_type": "code",
   "execution_count": 2,
   "id": "f3342f35-495b-4e2d-ac5f-2ebb6740aa9d",
   "metadata": {},
   "outputs": [
    {
     "name": "stdout",
     "output_type": "stream",
     "text": [
      "hi\n"
     ]
    }
   ],
   "source": [
    "print(\"hi\")"
   ]
  },
  {
   "cell_type": "code",
   "execution_count": null,
   "id": "0e5ddbd3-9f23-4a5a-8ab4-bd057d2ee8bc",
   "metadata": {},
   "outputs": [],
   "source": []
  }
 ],
 "metadata": {
  "kernelspec": {
   "display_name": "Python 3 (ipykernel)",
   "language": "python",
   "name": "python3"
  },
  "language_info": {
   "codemirror_mode": {
    "name": "ipython",
    "version": 3
   },
   "file_extension": ".py",
   "mimetype": "text/x-python",
   "name": "python",
   "nbconvert_exporter": "python",
   "pygments_lexer": "ipython3",
   "version": "3.12.7"
  }
 },
 "nbformat": 4,
 "nbformat_minor": 5
}
